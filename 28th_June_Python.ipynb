{
 "cells": [
  {
   "cell_type": "markdown",
   "id": "0bf8a7c5",
   "metadata": {},
   "source": [
    "#   ASSIGNMENT - 1"
   ]
  },
  {
   "cell_type": "code",
   "execution_count": 8,
   "id": "ebbd83aa",
   "metadata": {},
   "outputs": [
    {
     "name": "stdout",
     "output_type": "stream",
     "text": [
      "True\n",
      "False\n"
     ]
    }
   ],
   "source": [
    "# Q1. Write a Python program to check if a given string is an anagram.\n",
    "\n",
    "def anagram(str1, str2):\n",
    "    str1 = str1.replace(\" \", \"\").lower()    # removing the space and covert string into lowercase\n",
    "    str2 = str2.replace(\" \", \"\").lower()\n",
    "    \n",
    "    if len(str1) != len(str2):    # checking if the length of the strings are same if not return false\n",
    "        return False\n",
    "    \n",
    "    char_freq1 = {}   # creating dictionaries for both the string\n",
    "    char_freq2 = {}\n",
    "\n",
    "    for i in str1:    # Update character frequencies for both strings in dictionary\n",
    "        char_freq1[i] = char_freq1.get(i, 0) + 1\n",
    "\n",
    "    for j in str2:\n",
    "        char_freq2[j] = char_freq2.get(j, 0) + 1\n",
    "\n",
    "    if char_freq1 == char_freq2:    # checking if the frequency is same\n",
    "        return True\n",
    "\n",
    "# Example\n",
    "str1 = \"listen\"\n",
    "str2 = \"silent\"\n",
    "print(anagram(str1, str2))\n",
    "\n",
    "str3 = \"hello\"\n",
    "str4 = \"ineuron\"\n",
    "print(anagram(str3, str4))\n",
    "        "
   ]
  },
  {
   "cell_type": "code",
   "execution_count": 18,
   "id": "801a9726",
   "metadata": {},
   "outputs": [
    {
     "name": "stdout",
     "output_type": "stream",
     "text": [
      "max = 20 min = 5\n"
     ]
    }
   ],
   "source": [
    "# Q2. Write a Python program to find the maximum and minimum values in a dictionary.\n",
    "\n",
    "def maxmin(dict):\n",
    "    values = dict.values()\n",
    "    maxi = max(values)\n",
    "    mini = min(values)\n",
    "    print(\"max =\", maxi, \"min =\", mini)\n",
    "dict = {'a': 10, 'b': 5, 'c': 15, 'd': 20}\n",
    "maxmin(dict)"
   ]
  },
  {
   "cell_type": "code",
   "execution_count": 31,
   "id": "a8e20bfa",
   "metadata": {},
   "outputs": [
    {
     "name": "stdout",
     "output_type": "stream",
     "text": [
      "6.0\n"
     ]
    }
   ],
   "source": [
    "# Q3. Write a Python program to find the average of a list of numbers.\n",
    "\n",
    "def avg(list):\n",
    "    sum = 0\n",
    "    for i in range(0, n):\n",
    "        sum = sum + list[i]\n",
    "    \n",
    "    avg = sum / n\n",
    "    print(avg)\n",
    "            \n",
    "list = [1, 5, 9, 8, 7, 6]\n",
    "n = len(list)\n",
    "avg(list)"
   ]
  },
  {
   "cell_type": "code",
   "execution_count": 61,
   "id": "75b21f89",
   "metadata": {},
   "outputs": [
    {
     "name": "stdout",
     "output_type": "stream",
     "text": [
      "nrn\n"
     ]
    }
   ],
   "source": [
    "# Q4. Write a Python program to remove all vowels from a string.\n",
    "\n",
    "def remove_vowels(str):\n",
    "    vowels = ['a','e','i','o','u','A','E','I','O','U']\n",
    "    result = \"\"\n",
    "    for char in str:\n",
    "        if char not in vowels:\n",
    "            result = result + char\n",
    "    print(result)\n",
    "str = \"ineuron\"\n",
    "remove_vowels(str)\n"
   ]
  },
  {
   "cell_type": "code",
   "execution_count": 71,
   "id": "c3b84728",
   "metadata": {},
   "outputs": [
    {
     "name": "stdout",
     "output_type": "stream",
     "text": [
      "120\n"
     ]
    }
   ],
   "source": [
    "# Q5. Write a Python function to calculate the factorial of a number using recursion.\n",
    "\n",
    "def factorial(n):\n",
    "    factorial = 1\n",
    "    while n != 0:\n",
    "        factorial = factorial * n\n",
    "        n = n-1\n",
    "    return factorial \n",
    "n = 5\n",
    "print(factorial(n))"
   ]
  },
  {
   "cell_type": "code",
   "execution_count": 87,
   "id": "c9a51ad1",
   "metadata": {},
   "outputs": [
    {
     "name": "stdout",
     "output_type": "stream",
     "text": [
      "Merged and sorted list: [1, 2, 3, 4, 5, 6, 7, 8, 9]\n"
     ]
    }
   ],
   "source": [
    "# Q6. Write a Python program to merge two unsorted lists into a single sorted list using the merge sort algorithm.\n",
    "\n",
    "def merge_sort(arr):\n",
    "    if len(arr) <= 1:\n",
    "        return arr\n",
    "    \n",
    "    mid = len(arr) // 2\n",
    "    left = arr[:mid]\n",
    "    right = arr[mid:]\n",
    "    \n",
    "    left = merge_sort(left)\n",
    "    right = merge_sort(right)\n",
    "    \n",
    "    return merge(left, right)\n",
    "\n",
    "def merge(left, right):\n",
    "    result = []\n",
    "    i = j = 0\n",
    "    \n",
    "    while i < len(left) and j < len(right):\n",
    "        if left[i] < right[j]:\n",
    "            result.append(left[i])\n",
    "            i += 1\n",
    "        else:\n",
    "            result.append(right[j])\n",
    "            j += 1\n",
    "    \n",
    "    while i < len(left):\n",
    "        result.append(left[i])\n",
    "        i += 1\n",
    "    \n",
    "    while j < len(right):\n",
    "        result.append(right[j])\n",
    "        j += 1\n",
    "    \n",
    "    return result\n",
    "\n",
    "\n",
    "list1 = [5, 2, 9, 1, 7]\n",
    "list2 = [4, 6, 3, 8]\n",
    "\n",
    "merged_list = merge_sort(list1 + list2)\n",
    "print(\"Merged and sorted list:\", merged_list)\n"
   ]
  },
  {
   "cell_type": "code",
   "execution_count": 105,
   "id": "f159bc5a",
   "metadata": {},
   "outputs": [
    {
     "name": "stdout",
     "output_type": "stream",
     "text": [
      "2\n"
     ]
    }
   ],
   "source": [
    "# Q7. Write a Python program to find the GCD (Greatest Common Divisor) of two numbers.\n",
    "\n",
    "def GCD(a, b):\n",
    "    while b != 0:\n",
    "        a, b = b, a % b\n",
    "    return a\n",
    "\n",
    "num1 = 10\n",
    "num2 = 8\n",
    "FIND_GCD = GCD(num1, num2)\n",
    "print(FIND_GCD)"
   ]
  },
  {
   "cell_type": "code",
   "execution_count": 3,
   "id": "bebb37fb",
   "metadata": {},
   "outputs": [
    {
     "name": "stdout",
     "output_type": "stream",
     "text": [
      "7\n"
     ]
    }
   ],
   "source": [
    "# Q8. Write a Python program to find the second-largest element in a list.\n",
    "\n",
    "def second_largest(list):\n",
    "    list.sort()\n",
    "    print(list[-2])\n",
    "    \n",
    "list = [5, 2, 9, 1, 7]\n",
    "second_largest(list)"
   ]
  },
  {
   "cell_type": "code",
   "execution_count": 4,
   "id": "730f4c7b",
   "metadata": {},
   "outputs": [
    {
     "name": "stdout",
     "output_type": "stream",
     "text": [
      "Longest Common Subsequence: GTAB\n"
     ]
    }
   ],
   "source": [
    "# Q9. Write a Python program to find the longest common subsequence between two strings using dynamic programming.\n",
    "\n",
    "def longest_common_subsequence(str1, str2):\n",
    "    m = len(str1)\n",
    "    n = len(str2)\n",
    "    dp = [[0] * (n + 1) for _ in range(m + 1)]\n",
    "\n",
    "    for i in range(1, m + 1):\n",
    "        for j in range(1, n + 1):\n",
    "            if str1[i - 1] == str2[j - 1]:\n",
    "                dp[i][j] = dp[i - 1][j - 1] + 1\n",
    "            else:\n",
    "                dp[i][j] = max(dp[i - 1][j], dp[i][j - 1])\n",
    "\n",
    "    lcs = \"\"\n",
    "    i = m\n",
    "    j = n\n",
    "    while i > 0 and j > 0:\n",
    "        if str1[i - 1] == str2[j - 1]:\n",
    "            lcs = str1[i - 1] + lcs\n",
    "            i -= 1\n",
    "            j -= 1\n",
    "        elif dp[i - 1][j] > dp[i][j - 1]:\n",
    "            i -= 1\n",
    "        else:\n",
    "            j -= 1\n",
    "\n",
    "    return lcs\n",
    "\n",
    "\n",
    "str1 = \"AGGTAB\"\n",
    "str2 = \"GXTXAYB\"\n",
    "result = longest_common_subsequence(str1, str2)\n",
    "print(\"Longest Common Subsequence:\", result)\n"
   ]
  },
  {
   "cell_type": "code",
   "execution_count": null,
   "id": "2ce16e67",
   "metadata": {},
   "outputs": [],
   "source": []
  }
 ],
 "metadata": {
  "kernelspec": {
   "display_name": "Python 3 (ipykernel)",
   "language": "python",
   "name": "python3"
  },
  "language_info": {
   "codemirror_mode": {
    "name": "ipython",
    "version": 3
   },
   "file_extension": ".py",
   "mimetype": "text/x-python",
   "name": "python",
   "nbconvert_exporter": "python",
   "pygments_lexer": "ipython3",
   "version": "3.9.7"
  }
 },
 "nbformat": 4,
 "nbformat_minor": 5
}
